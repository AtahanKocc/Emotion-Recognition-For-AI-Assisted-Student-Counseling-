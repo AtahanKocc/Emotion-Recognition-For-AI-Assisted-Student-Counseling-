{
 "cells": [
  {
   "cell_type": "code",
   "execution_count": 56,
   "metadata": {},
   "outputs": [],
   "source": [
    "import speech_recognition as sr\n",
    "r = sr.Recognizer()"
   ]
  },
  {
   "cell_type": "code",
   "execution_count": 57,
   "metadata": {},
   "outputs": [],
   "source": [
    "file = sr.AudioFile(\"output1.wav\")"
   ]
  },
  {
   "cell_type": "markdown",
   "metadata": {},
   "source": [
    "SES KAYDI İLE YAZIYA DÖNÜŞTÜRME"
   ]
  },
  {
   "cell_type": "code",
   "execution_count": 58,
   "metadata": {},
   "outputs": [
    {
     "name": "stdout",
     "output_type": "stream",
     "text": [
      "Bosna'da Minare görmeye dayanamıyorum kaynaklarda Sırbistan hududunda Şirin ve yemyeşil bir kasaba olduğu sırf işgaline uğradığı için eski şeklinden ve halinden pek bir şey kalmadı belirtilmiş şehrin ne derecede ile çektiğini ispat eden geniş bir Şehitlik bulunduğu anlaşılmıştır 20 yüzyılın sonlarına doğru ise şehir yazılanlardan büyük bir talihsizlik ile karşı karşıya kalmıştır bahsi geçen Şehitlik şimdikinin yanında küçük kalır asırlar içinde oluşan eski şehitliğin yanında bugünkü seyitlik birkaç gün içinde yapılmış bir\n"
     ]
    }
   ],
   "source": [
    "with file as source:\n",
    " r.adjust_for_ambient_noise(source)\n",
    " audio = r.record(source)\n",
    " result = r.recognize_google(audio,language=\"tr-tr\")\n",
    "print(result)"
   ]
  },
  {
   "cell_type": "markdown",
   "metadata": {},
   "source": [
    "MİKROFON İLE KAYIT VE YAZIYA DÖNÜŞTÜRME"
   ]
  },
  {
   "cell_type": "code",
   "execution_count": 64,
   "metadata": {},
   "outputs": [
    {
     "name": "stdout",
     "output_type": "stream",
     "text": [
      "Sesinizi Tanımlıyor…\n",
      "Zeki süre 10 saniye bir iki saniye geçecek\n"
     ]
    }
   ],
   "source": [
    "with sr.Microphone() as source:\n",
    " r.adjust_for_ambient_noise(source)\n",
    " data = r.record(source,duration=10)\n",
    " print(\"Sesinizi Tanımlıyor…\")\n",
    " text = r.recognize_google(data,language=\"tr-tr\")\n",
    " print(text)"
   ]
  },
  {
   "cell_type": "code",
   "execution_count": 63,
   "metadata": {},
   "outputs": [
    {
     "name": "stdout",
     "output_type": "stream",
     "text": [
      "<class 'str'>\n"
     ]
    }
   ],
   "source": [
    "print(type(text))"
   ]
  },
  {
   "cell_type": "code",
   "execution_count": 61,
   "metadata": {},
   "outputs": [],
   "source": [
    "text_file = open(\"3.hasta.txt\", \"w\")\n",
    "n = text_file.write(text) #result ile değiştirmek gerekir ses kaydı ile yapılmak isteniyorsa\n",
    "text_file.close()"
   ]
  }
 ],
 "metadata": {
  "interpreter": {
   "hash": "a077222d77dfe082b8f1dd562ad70e458ac2ab76993a0b248ab0476e32e9e8dd"
  },
  "kernelspec": {
   "display_name": "Python 3.8.3 ('base')",
   "language": "python",
   "name": "python3"
  },
  "language_info": {
   "codemirror_mode": {
    "name": "ipython",
    "version": 3
   },
   "file_extension": ".py",
   "mimetype": "text/x-python",
   "name": "python",
   "nbconvert_exporter": "python",
   "pygments_lexer": "ipython3",
   "version": "3.8.3"
  },
  "orig_nbformat": 4
 },
 "nbformat": 4,
 "nbformat_minor": 2
}
